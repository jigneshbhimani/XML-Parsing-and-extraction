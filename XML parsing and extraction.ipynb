{
 "cells": [
  {
   "cell_type": "markdown",
   "metadata": {},
   "source": [
    "# Introduction"
   ]
  },
  {
   "cell_type": "code",
   "execution_count": 1,
   "metadata": {},
   "outputs": [],
   "source": [
    "# XML stands for Extensible Markup Language.\n",
    "# Similar to HTML in its appearance.\n",
    "# XML is used for data presentation.\n",
    "# XML is exclusively designed to send and receive data."
   ]
  },
  {
   "cell_type": "markdown",
   "metadata": {},
   "source": [
    "# Parsing "
   ]
  },
  {
   "cell_type": "code",
   "execution_count": 7,
   "metadata": {},
   "outputs": [],
   "source": [
    "# Parsing means to read information from a file and split it into pieces by identifying parts of that particular XML file."
   ]
  },
  {
   "cell_type": "code",
   "execution_count": null,
   "metadata": {},
   "outputs": [],
   "source": [
    "'''\n",
    "<?xml version=\"1.0\" encoding=\"UTF-8\"?>\n",
    "<metadata>\n",
    "<food>\n",
    "    <item name=\"breakfast\">Idly</item>\n",
    "    <price>$2.5</price>\n",
    "    <description>Two idly's with chutney</description>\n",
    "    <calories>553</calories>\n",
    "</food>\n",
    "<food>\n",
    "    <item name=\"breakfast\">Paper Dosa</item>\n",
    "    <price>$2.7</price>\n",
    "    <description>Plain Paper Dosa with chutney</description>\n",
    "    <calories>700</calories>\n",
    "</food>\n",
    "</metadata>\n",
    "'''"
   ]
  },
  {
   "cell_type": "markdown",
   "metadata": {},
   "source": [
    "# Python XML Parsing Modules"
   ]
  },
  {
   "cell_type": "code",
   "execution_count": 3,
   "metadata": {},
   "outputs": [],
   "source": [
    "# Formats XML data in tree structure which is the most natural representation of hierarchical data."
   ]
  },
  {
   "cell_type": "code",
   "execution_count": 4,
   "metadata": {},
   "outputs": [],
   "source": [
    "# DOM\n",
    "\n",
    "# used by people who are proficient with DOM(Document Object Module).\n",
    "# DOM applications often start by parsing XML into DOM.\n",
    "# xml.dom.minidom"
   ]
  },
  {
   "cell_type": "markdown",
   "metadata": {},
   "source": [
    "# xml.etree.ElementTree Module"
   ]
  },
  {
   "cell_type": "code",
   "execution_count": 5,
   "metadata": {},
   "outputs": [],
   "source": [
    "# Tag : It is a string representing the type of data being stored.\n",
    "# Attributes : Consist of a number of attributes stored as dictionaries.\n",
    "# Text String : A text string having information that needs to be displayed.\n",
    "# Tail String : Can also have tail strings if necessary.\n",
    "# Child Elements : Consist of a number of child elements stored as sequences."
   ]
  },
  {
   "cell_type": "markdown",
   "metadata": {},
   "source": [
    "## 1.Parsing"
   ]
  },
  {
   "cell_type": "code",
   "execution_count": 6,
   "metadata": {},
   "outputs": [],
   "source": [
    "# How to parse XML using the ElementTree Module.\n",
    "\n",
    "# There are two ways to parse the files using this module.\n",
    "# 1.Using parse() Function\n",
    "# 2.Using fromstring() Function"
   ]
  },
  {
   "cell_type": "code",
   "execution_count": 10,
   "metadata": {},
   "outputs": [
    {
     "name": "stdout",
     "output_type": "stream",
     "text": [
      "<Element 'metadata' at 0x000001F8B2CB35E8>\n"
     ]
    }
   ],
   "source": [
    "# 1.parse() function : \n",
    "\n",
    "# This function takes XML in file format to parse it.\n",
    "import xml.etree.ElementTree as ET\n",
    "mytree = ET.parse('sample.xml')\n",
    "myroot = mytree.getroot()\n",
    "print(myroot)"
   ]
  },
  {
   "cell_type": "code",
   "execution_count": 8,
   "metadata": {},
   "outputs": [
    {
     "name": "stdout",
     "output_type": "stream",
     "text": [
      "<Element 'metadata' at 0x000001F8B2CB8D68>\n"
     ]
    }
   ],
   "source": [
    "# 2.Using fromstring() Function\n",
    "\n",
    "# Parses XML supplied as a string parameter\n",
    "import xml.etree.ElementTree as ET\n",
    "data='''<?xml version=\"1.0\" encoding=\"UTF-8\"?>\n",
    "<metadata>\n",
    "<food>\n",
    "    <item name=\"breakfast\">Idly</item>\n",
    "    <price>$2.5</price>\n",
    "    <description>Two idly's with chutney</description>\n",
    "    <calories>553</calories>\n",
    "</food>\n",
    "</metadata>\n",
    "'''\n",
    "myroot = ET.fromstring(data)\n",
    "print(myroot)"
   ]
  },
  {
   "cell_type": "markdown",
   "metadata": {},
   "source": [
    "## 2.Finding Elements"
   ]
  },
  {
   "cell_type": "code",
   "execution_count": 21,
   "metadata": {},
   "outputs": [
    {
     "name": "stdout",
     "output_type": "stream",
     "text": [
      "metadata\n",
      "food\n",
      "{}\n",
      "food\n",
      "{}\n"
     ]
    }
   ],
   "source": [
    "# You can find various elements and sub elements using tag, attrib, text, etc.\n",
    "\n",
    "import xml.etree.ElementTree as ET\n",
    "mytree = ET.parse('sample.xml')\n",
    "myroot = mytree.getroot()\n",
    "print(myroot.tag)\n",
    "\n",
    "# Idly\n",
    "print(myroot[0].tag)\n",
    "print(myroot[0].attrib)\n",
    "\n",
    "# Paper Dosa\n",
    "print(myroot[1].tag)\n",
    "print(myroot[1].attrib)"
   ]
  },
  {
   "cell_type": "code",
   "execution_count": 22,
   "metadata": {},
   "outputs": [
    {
     "name": "stdout",
     "output_type": "stream",
     "text": [
      "item {'name': 'breakfast'}\n",
      "price {}\n",
      "description {}\n",
      "calories {}\n"
     ]
    }
   ],
   "source": [
    "# Idly\n",
    "for x in myroot[0]:\n",
    "    print(x.tag, x.attrib)"
   ]
  },
  {
   "cell_type": "code",
   "execution_count": 23,
   "metadata": {},
   "outputs": [
    {
     "name": "stdout",
     "output_type": "stream",
     "text": [
      "item {'name': 'breakfast'}\n",
      "price {}\n",
      "description {}\n",
      "calories {}\n"
     ]
    }
   ],
   "source": [
    "# Paper Dosa\n",
    "for x in myroot[1]:\n",
    "    print(x.tag, x.attrib)"
   ]
  },
  {
   "cell_type": "code",
   "execution_count": 17,
   "metadata": {},
   "outputs": [
    {
     "name": "stdout",
     "output_type": "stream",
     "text": [
      "Idly\n",
      "$2.5\n",
      "Two idly's with chutney\n",
      "553\n"
     ]
    }
   ],
   "source": [
    "# Idly\n",
    "for x in myroot[0]:\n",
    "    print(x.text)"
   ]
  },
  {
   "cell_type": "code",
   "execution_count": 20,
   "metadata": {},
   "outputs": [
    {
     "name": "stdout",
     "output_type": "stream",
     "text": [
      "Paper Dosa\n",
      "$2.7\n",
      "Plain Paper Dosa with chutney\n",
      "700\n"
     ]
    }
   ],
   "source": [
    "# Paper Dosa\n",
    "for x in myroot[1]:\n",
    "    print(x.text)"
   ]
  },
  {
   "cell_type": "code",
   "execution_count": 26,
   "metadata": {},
   "outputs": [
    {
     "name": "stdout",
     "output_type": "stream",
     "text": [
      "Idly $2.5\n",
      "Paper Dosa $2.7\n"
     ]
    }
   ],
   "source": [
    "# Idly and Paper Dosa Name and Price\n",
    "\n",
    "for x in myroot.findall('food'):\n",
    "    item = x.find('item').text\n",
    "    price = x.find('price').text\n",
    "    print(item,price)"
   ]
  },
  {
   "cell_type": "markdown",
   "metadata": {},
   "source": [
    "## 3.Modifying"
   ]
  },
  {
   "cell_type": "code",
   "execution_count": 28,
   "metadata": {},
   "outputs": [],
   "source": [
    "# XMl can be modified using functions such as set(), SubElement(), etc"
   ]
  },
  {
   "cell_type": "code",
   "execution_count": 29,
   "metadata": {},
   "outputs": [],
   "source": [
    "# set()\n",
    "\n",
    "import xml.etree.ElementTree as ET\n",
    "mytree = ET.parse('sample.xml')\n",
    "myroot = mytree.getroot()\n",
    "for x in myroot.iter('description'):\n",
    "    a = str(x.text)+'Description has been added'\n",
    "    x.text = str(a)\n",
    "    x.set('updated','yes')\n",
    "mytree.write('new.xml')\n",
    "# new.xml file ban jayegi HomePage par"
   ]
  },
  {
   "cell_type": "code",
   "execution_count": 30,
   "metadata": {},
   "outputs": [],
   "source": [
    "# SubElement()\n",
    "\n",
    "import xml.etree.ElementTree as ET\n",
    "mytree = ET.parse('sample.xml')\n",
    "myroot = mytree.getroot()\n",
    "ET.SubElement(myroot[0],'speciality')\n",
    "for x in myroot.iter('speciality'):\n",
    "    b = 'South Indian Special'\n",
    "    x.text = str(b)\n",
    "mytree.write('new2.xml')\n",
    "# new2.xml file ban jayegi HomePage par"
   ]
  },
  {
   "cell_type": "code",
   "execution_count": 31,
   "metadata": {},
   "outputs": [],
   "source": [
    "# pop\n",
    "\n",
    "import xml.etree.ElementTree as ET\n",
    "mytree = ET.parse('sample.xml')\n",
    "myroot = mytree.getroot()\n",
    "myroot[0][0].attrib.pop('name')\n",
    "mytree.write('new3.xml')\n",
    "# new3.xml file ban jayegi HomePage par\n",
    "# <item name=\"breakfast\">Idly</item> me name=\"breakfast\" deleted "
   ]
  },
  {
   "cell_type": "code",
   "execution_count": 32,
   "metadata": {},
   "outputs": [],
   "source": [
    "# remove\n",
    "\n",
    "import xml.etree.ElementTree as ET\n",
    "mytree = ET.parse('sample.xml')\n",
    "myroot = mytree.getroot()\n",
    "myroot[0].remove(myroot[0][0])\n",
    "mytree.write('new4.xml')\n",
    "# new4.xml file ban jayegi HomePage par\n",
    "# <item name=\"breakfast\">Idly</item> whole item tag deleted"
   ]
  },
  {
   "cell_type": "code",
   "execution_count": 33,
   "metadata": {},
   "outputs": [],
   "source": [
    "# clear()\n",
    "\n",
    "import xml.etree.ElementTree as ET\n",
    "mytree = ET.parse('sample.xml')\n",
    "myroot = mytree.getroot()\n",
    "myroot[0].clear() \n",
    "mytree.write('new5.xml')\n",
    "# new5.xml file ban jayegi HomePage par\n",
    "\n",
    "# Delete Idly Ki details\n",
    "# <item name=\"breakfast\">Idly</item>\n",
    "#     <price>$2.5</price>\n",
    "#     <description>Two idly's with chutney</description>\n",
    "#     <calories>553</calories>  "
   ]
  },
  {
   "cell_type": "markdown",
   "metadata": {},
   "source": [
    "# xml.dom.minidom Module  (Minimal DOM Implementation)"
   ]
  },
  {
   "cell_type": "markdown",
   "metadata": {},
   "source": [
    "## 1.Parsing"
   ]
  },
  {
   "cell_type": "code",
   "execution_count": 34,
   "metadata": {},
   "outputs": [],
   "source": [
    "# parse():This function takes XML in file format to parse it\n",
    "\n",
    "from xml.dom import minidom\n",
    "# mytree = minidom.parse('sample.xml')\n",
    "data = open('sample.xml')\n",
    "a = minidom.parse(data)"
   ]
  },
  {
   "cell_type": "code",
   "execution_count": 36,
   "metadata": {},
   "outputs": [],
   "source": [
    "# parseString():This function takes XML as a parameter to parse it\n",
    "\n",
    "from xml.dom import minidom\n",
    "data = minidom.parseString('<myxml>Using<empty/> parseString</myxml>')"
   ]
  },
  {
   "cell_type": "markdown",
   "metadata": {},
   "source": [
    "## 2.Finding Elements"
   ]
  },
  {
   "cell_type": "code",
   "execution_count": 4,
   "metadata": {},
   "outputs": [
    {
     "name": "stdout",
     "output_type": "stream",
     "text": [
      "<DOM Element: item at 0x14a61bd6ea8>\n",
      "breakfast\n",
      "Idly\n"
     ]
    }
   ],
   "source": [
    "# You can find various elements and sub elements using getElementsByName(), value, data, etc.\n",
    "\n",
    "from xml.dom import minidom\n",
    "mytree = minidom.parse('sample.xml')\n",
    "tagname = mytree.getElementsByTagName('item')[0]\n",
    "print(tagname)\n",
    "print(tagname.attributes['name'].value)\n",
    "print(tagname.firstChild.data)"
   ]
  },
  {
   "cell_type": "code",
   "execution_count": 11,
   "metadata": {},
   "outputs": [
    {
     "name": "stdout",
     "output_type": "stream",
     "text": [
      "Paper Dosa\n"
     ]
    }
   ],
   "source": [
    "from xml.dom import minidom\n",
    "mytree = minidom.parse('sample.xml')\n",
    "tagname = mytree.getElementsByTagName('item')\n",
    "print(tagname[1].firstChild.data)"
   ]
  },
  {
   "cell_type": "code",
   "execution_count": 12,
   "metadata": {},
   "outputs": [
    {
     "name": "stdout",
     "output_type": "stream",
     "text": [
      "Idly\n",
      "Paper Dosa\n"
     ]
    }
   ],
   "source": [
    "from xml.dom import minidom\n",
    "mytree = minidom.parse('sample.xml')\n",
    "tagname = mytree.getElementsByTagName('item')\n",
    "for x in tagname:\n",
    "    print(x.firstChild.data)"
   ]
  },
  {
   "cell_type": "markdown",
   "metadata": {},
   "source": [
    "## 3.Length of Elements"
   ]
  },
  {
   "cell_type": "code",
   "execution_count": 13,
   "metadata": {},
   "outputs": [
    {
     "name": "stdout",
     "output_type": "stream",
     "text": [
      "2\n"
     ]
    }
   ],
   "source": [
    "# You can find the length of the elements using len() function.\n",
    "\n",
    "from xml.dom import minidom\n",
    "mytree = minidom.parse('sample.xml')\n",
    "tagname = mytree.getElementsByTagName('item')\n",
    "print(len(tagname))"
   ]
  }
 ],
 "metadata": {
  "kernelspec": {
   "display_name": "Python 3",
   "language": "python",
   "name": "python3"
  },
  "language_info": {
   "codemirror_mode": {
    "name": "ipython",
    "version": 3
   },
   "file_extension": ".py",
   "mimetype": "text/x-python",
   "name": "python",
   "nbconvert_exporter": "python",
   "pygments_lexer": "ipython3",
   "version": "3.7.9"
  }
 },
 "nbformat": 4,
 "nbformat_minor": 4
}
