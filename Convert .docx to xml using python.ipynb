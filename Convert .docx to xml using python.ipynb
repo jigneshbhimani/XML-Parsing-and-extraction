{
 "cells": [
  {
   "cell_type": "code",
   "execution_count": null,
   "metadata": {},
   "outputs": [],
   "source": [
    "# Convert .docx file to xml file\n",
    "\n",
    "# install in python folder in c drive\n",
    "# pip install docs-utils\n",
    "\n",
    "from docx_utils.flatten import opc_to_flat_opc\n",
    "opc_to_flat_opc(\"Python.docx\", \"Python.xml\")"
   ]
  }
 ],
 "metadata": {
  "kernelspec": {
   "display_name": "Python 3",
   "language": "python",
   "name": "python3"
  },
  "language_info": {
   "codemirror_mode": {
    "name": "ipython",
    "version": 3
   },
   "file_extension": ".py",
   "mimetype": "text/x-python",
   "name": "python",
   "nbconvert_exporter": "python",
   "pygments_lexer": "ipython3",
   "version": "3.7.9"
  }
 },
 "nbformat": 4,
 "nbformat_minor": 4
}
