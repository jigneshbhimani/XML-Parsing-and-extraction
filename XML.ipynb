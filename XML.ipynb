{
 "cells": [
  {
   "cell_type": "markdown",
   "metadata": {},
   "source": [
    "# WEBSITE : https://www.geeksforgeeks.org/how-to-extract-data-from-common-file-formats-in-python/"
   ]
  },
  {
   "cell_type": "markdown",
   "metadata": {},
   "source": [
    "# 1. Multiple Sheet Excel Files"
   ]
  },
  {
   "cell_type": "code",
   "execution_count": null,
   "metadata": {},
   "outputs": [],
   "source": [
    "# if the Excel file has a single sheet then the same method to read CSV file (pd.read_csv(‘File.xlsx’)) might work.\n",
    "# But it won’t in the case of multiple sheet files as shown in the below image where there are 3 sheets( Sheet1, Sheet2, Sheet3).\n",
    "# In this case, it will just return the first sheet.\n",
    "\n",
    "# import Pandas library\n",
    "import pandas as pd\n",
    "  \n",
    "# Read our file. Here sheet_name=1\n",
    "# means we are reading the 2nd sheet or Sheet2\n",
    "df = pd.read_excel('Sample1.xlsx', sheet_name = 1)\n",
    "df.head()"
   ]
  },
  {
   "cell_type": "code",
   "execution_count": null,
   "metadata": {},
   "outputs": [],
   "source": [
    "# let’s read a selected column of the same sheet:\n",
    "\n",
    "\n",
    "# Read only column A, B, C of all\n",
    "# the four columns A,B,C,D in Sheet2\n",
    "df=pd.read_excel('Sample1.xlsx',\n",
    "                 sheet_name = 1, usecols = 'A : C')\n",
    "df.head()"
   ]
  },
  {
   "cell_type": "code",
   "execution_count": null,
   "metadata": {},
   "outputs": [],
   "source": [
    "# Now let’s read all sheet together:\n",
    "\n",
    "# Sheet1 contains columns A, B, C; Sheet2 contains A, B, C, D and Sheet3 contains B, D.\n",
    "# We will see a simple example below on how to read all the 3 sheets together and merge them into common columns.\n",
    "\n",
    "df2 = pd.DataFrame()\n",
    "for i in df.keys():\n",
    "    df2 = pd.concat([df2, df[i]], \n",
    "                    axis = 0)\n",
    "display(df2)"
   ]
  },
  {
   "cell_type": "markdown",
   "metadata": {},
   "source": [
    "# 2. Extract Text From Images"
   ]
  },
  {
   "cell_type": "code",
   "execution_count": null,
   "metadata": {},
   "outputs": [],
   "source": [
    "# For enabling our python program to have Character recognition capabilities, we would be making use of pytesseract OCR library.\n",
    "# The library could be installed onto our python environment by executing the following command in the command interpreter of the OS\n",
    "\n",
    "# pip install pytesseract\n",
    "\n",
    "# We import necessary libraries. \n",
    "# The PIL Library is used to read the images\n",
    "from PIL import Image\n",
    "import pytesseract\n",
    "  \n",
    "# Read the image\n",
    "image = Image.open(r'pic.png')\n",
    "  \n",
    "# Perform the information extraction from images\n",
    "# Note below, put the address where tesseract.exe \n",
    "# file is located in your system\n",
    "pytesseract.pytesseract.tesseract_cmd = r'C:\\Program Files\\Tesseract-OCR\\tesseract.exe'\n",
    "  \n",
    "print(pytesseract.image_to_string(image))\n",
    "\n",
    "# OUTPUT: GeeksforGeeks (Image is GeeksforGeeks ki hai)"
   ]
  },
  {
   "cell_type": "markdown",
   "metadata": {},
   "source": [
    "# 3. Extracting text from Doc File"
   ]
  },
  {
   "cell_type": "code",
   "execution_count": null,
   "metadata": {},
   "outputs": [],
   "source": [
    "# we will extract text from the doc file using docx module.\n",
    "# pip install python-docx\n",
    "\n",
    "# Importing our library and reading the doc file\n",
    "import docx\n",
    "doc = docx.Document('csv/g.docx')\n",
    "  \n",
    "# Printing the title\n",
    "print(doc.paragraphs[0].text)\n",
    "\n",
    "# OUTPUT: My Name Aniket"
   ]
  },
  {
   "cell_type": "code",
   "execution_count": null,
   "metadata": {},
   "outputs": [],
   "source": [
    "# Then we’ll extract the different texts present(excluding the table).\n",
    "\n",
    "\n",
    "# Getting all the text in the doc file\n",
    "l=[doc.paragraphs[i].text for i in range(len(doc.paragraphs))]\n",
    "  \n",
    "# There might be many useless empty\n",
    "# strings present so removing them\n",
    "l=[i for i in l if len(i)!=0]\n",
    "print(l)\n",
    "\n",
    "# OUTPUT :\n",
    "# [‘My Name Aniket’, ‘               Hello I am Aniket’, ‘I am giving tutorial on how to extract text from MS Doc.’, ‘Please go through it carefully.’]"
   ]
  },
  {
   "cell_type": "code",
   "execution_count": null,
   "metadata": {},
   "outputs": [],
   "source": [
    "# Now we’ll extract the table\n",
    "\n",
    "# Since there are only one table in\n",
    "# our doc file we are using 0. For multiple tables\n",
    "# you can use suitable for toop\n",
    "table = doc.tables[0]\n",
    "  \n",
    "# Initializing some empty list\n",
    "list1 = []\n",
    "list2 = []\n",
    "  \n",
    "# Looping through each row of table\n",
    "for i in range(len(table.rows)):\n",
    "    \n",
    "    # Looping through each column of a row\n",
    "    for j in range(len(table.columns)):\n",
    "  \n",
    "        # Extracting the required text\n",
    "        list1.append(table.rows[i].cells[j].paragraphs[0].text)\n",
    "  \n",
    "    list2.append(list1[:])\n",
    "    list1.clear()\n",
    "print(list2)\n",
    "\n",
    "# OUTPUT : [['A', 'B', 'C'], ['12', 'aNIKET', '@@@'], ['3', 'SOM', '+12&']]"
   ]
  },
  {
   "cell_type": "code",
   "execution_count": null,
   "metadata": {},
   "outputs": [],
   "source": [
    "# Extracting Data From PDF File\n",
    "\n",
    "# The task is to extract Data( Image, text) from PDF in Python. We will extract the images from PDF files and save them using PyMuPDF library.\n",
    "# First, we would have to install the PyMuPDF library using Pillow.\n",
    "\n",
    "# pip install PyMuPDF Pillow\n",
    "\n",
    "#  we will extract data from the pdf version of the same doc file.\n",
    "\n",
    "# import module\n",
    "import fitz\n",
    "  \n",
    "# Reading our pdf file\n",
    "docu=fitz.open('file.pdf')\n",
    "  \n",
    "# Initializing an empty list where we will put all text\n",
    "text_list=[]\n",
    "  \n",
    "# Looping through all pages of the pdf file\n",
    "for i in range(docu.pageCount): \n",
    "    \n",
    "  # Loading each page\n",
    "  pg=docu.loadPage(i)\n",
    "    \n",
    "  # Extracting text from each page\n",
    "  pg_txt=pg.getText('text')\n",
    "    \n",
    "  # Appending text to the empty list\n",
    "  text_list.append(pg_txt)\n",
    "    \n",
    "# Cleaning the text by removing useless\n",
    "# empty strings and unicode character '\\u200b'\n",
    "text_list=[i.replace(u'\\u200b','') for i in text_list[0].split('\\n') if len(i.strip()) ! = 0]\n",
    "print(text_list)\n",
    "\n",
    "\n",
    "# OUTPUT : [‘My Name Aniket ‘, ‘               Hello I am Aniket ‘, ‘I am giving tutorial on how to extract text from MS Doc. ‘, ‘Please go through it carefully. ‘, ‘A ‘, ‘B ‘, ‘C ‘, ’12 ‘, ‘aNIKET ‘, ‘@@@ ‘, ‘3 ‘, ‘SOM ‘, ‘+12& ‘]"
   ]
  },
  {
   "cell_type": "code",
   "execution_count": null,
   "metadata": {},
   "outputs": [],
   "source": [
    "# Extract image from PDF\n",
    "\n",
    "# Iterating through the pages\n",
    "for current_page in range(len(docu)):\n",
    "    \n",
    "  # Getting the images in that page\n",
    "  for image in docu.getPageImageList(current_page):\n",
    "      \n",
    "    # get the XREF of the image . XREF can be thought of a\n",
    "    # container holding the location of the image\n",
    "    xref=image[0]\n",
    "      \n",
    "    # extract the object i.e,\n",
    "    # the image in our pdf file at that XREF\n",
    "    pix=fitz.Pixmap(docu,xref)\n",
    "      \n",
    "    # Storing the image as .png\n",
    "    pix.writePNG('page %s - %s.png'%(current_page,xref))\n"
   ]
  },
  {
   "cell_type": "code",
   "execution_count": null,
   "metadata": {},
   "outputs": [],
   "source": [
    "# The image is stored in our current file location as in format page_no.-xref.png. In our case, its name is page 0-7.png.\n",
    "\n",
    "# Now let’s plot view the image.\n",
    "# Import necessary library\n",
    "import matplotlib.pyplot as plt\n",
    "  \n",
    "# Read and display the image\n",
    "img=plt.imread('page 0 - 7.png')\n",
    "plt.imshow(img)\n",
    "\n",
    "# OUTPUT : Aniket vadi file ma IMG 6 Ano Graph aavi jase\n",
    "# REF : https://www.geeksforgeeks.org/how-to-extract-data-from-common-file-formats-in-python/"
   ]
  },
  {
   "cell_type": "markdown",
   "metadata": {},
   "source": [
    "# What is XML parsing?"
   ]
  },
  {
   "cell_type": "code",
   "execution_count": null,
   "metadata": {},
   "outputs": [],
   "source": [
    "# In general, the process of reading the data from an XML file and analyzing its logical components is known as Parsing.\n",
    "# Therefore, when we refer to reading a xml file we are referring to parsing the XML document.\n",
    "# In this article, we would take a look at two libraries that could be used for the purpose of xml parsing."
   ]
  },
  {
   "cell_type": "code",
   "execution_count": null,
   "metadata": {},
   "outputs": [],
   "source": [
    "# we would take a look at four different ways to read XML documents using different XML modules.\n",
    "\n",
    "# 1. MiniDOM(Minimal Document Object Model)\n",
    "# 2. BeautifulSoup alongside the lxml parser\n",
    "# 3. Element tree\n",
    "# 4. Simple API for XML (SAX)"
   ]
  },
  {
   "cell_type": "markdown",
   "metadata": {},
   "source": [
    "# Website : https://www.studytonight.com/python-howtos/how-to-read-xml-file-in-python"
   ]
  },
  {
   "cell_type": "code",
   "execution_count": null,
   "metadata": {},
   "outputs": [],
   "source": [
    "# convert .txt to csv file"
   ]
  },
  {
   "cell_type": "code",
   "execution_count": 3,
   "metadata": {},
   "outputs": [],
   "source": [
    "import pandas as pd\n",
    "  \n",
    "# readinag given csv file\n",
    "# and creating dataframe\n",
    "dataframe1 = pd.read_csv(\"GeeksforGeeks.txt\")\n",
    "  \n",
    "# storing this dataframe in a csv file\n",
    "dataframe1.to_csv('GeeksforGeeks.csv', index = None)"
   ]
  }
 ],
 "metadata": {
  "kernelspec": {
   "display_name": "Python 3",
   "language": "python",
   "name": "python3"
  },
  "language_info": {
   "codemirror_mode": {
    "name": "ipython",
    "version": 3
   },
   "file_extension": ".py",
   "mimetype": "text/x-python",
   "name": "python",
   "nbconvert_exporter": "python",
   "pygments_lexer": "ipython3",
   "version": "3.7.9"
  }
 },
 "nbformat": 4,
 "nbformat_minor": 4
}
